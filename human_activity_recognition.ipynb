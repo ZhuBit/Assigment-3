{
 "cells": [
  {
   "cell_type": "code",
   "execution_count": 1,
   "metadata": {
    "collapsed": true
   },
   "outputs": [],
   "source": [
    "import numpy as np\n",
    "import pandas as pd"
   ]
  },
  {
   "cell_type": "markdown",
   "source": [
    "# Load data and attribute names"
   ],
   "metadata": {
    "collapsed": false,
    "pycharm": {
     "name": "#%% md\n"
    }
   }
  },
  {
   "cell_type": "code",
   "execution_count": 2,
   "outputs": [
    {
     "name": "stdout",
     "output_type": "stream",
     "text": [
      "Columns:  561\n",
      "x_train:  (7352, 561)\n",
      "y_train:  (7352, 1)\n",
      "x_test:  (2947, 561)\n",
      "y_test:  (2947, 1)\n"
     ]
    }
   ],
   "source": [
    "columns_file = open('./UCI HAR Dataset/features.txt', \"r\")\n",
    "content = columns_file.read()\n",
    "columns = content.split('\\n')\n",
    "\n",
    "x_train = pd.read_fwf('./UCI HAR Dataset/train/X_train.txt', header=None)\n",
    "x_train.columns = columns\n",
    "y_train = pd.read_csv('./UCI HAR Dataset/train/Y_train.txt', sep=\"\\n\", header=None)\n",
    "\n",
    "x_test = pd.read_fwf('./UCI HAR Dataset/test/X_test.txt', header=None)\n",
    "x_test.columns = columns\n",
    "y_test = pd.read_csv('./UCI HAR Dataset/test/Y_test.txt', sep=\"\\n\", header=None)\n",
    "\n",
    "print('Columns: ', len(columns))\n",
    "print('x_train: ', x_train.shape)\n",
    "print('y_train: ', y_train.shape)\n",
    "print('x_test: ', x_test.shape)\n",
    "print('y_test: ', y_test.shape)"
   ],
   "metadata": {
    "collapsed": false,
    "pycharm": {
     "name": "#%%\n"
    }
   }
  },
  {
   "cell_type": "markdown",
   "source": [
    "The features selected for this database come from the accelerometer and gyroscope 3-axial raw signals tAcc-XYZ and tGyro-XYZ.\n",
    "# Exploer data"
   ],
   "metadata": {
    "collapsed": false,
    "pycharm": {
     "name": "#%% md\n"
    }
   }
  },
  {
   "cell_type": "code",
   "execution_count": 3,
   "outputs": [
    {
     "data": {
      "text/plain": "       1 tBodyAcc-mean()-X  2 tBodyAcc-mean()-Y  3 tBodyAcc-mean()-Z  \\\ncount          7352.000000          7352.000000          7352.000000   \nmean              0.274488            -0.017695            -0.109141   \nstd               0.070261             0.040811             0.056635   \nmin              -1.000000            -1.000000            -1.000000   \n25%               0.262975            -0.024863            -0.120993   \n50%               0.277193            -0.017219            -0.108676   \n75%               0.288461            -0.010783            -0.097794   \nmax               1.000000             1.000000             1.000000   \n\n       4 tBodyAcc-std()-X  5 tBodyAcc-std()-Y  6 tBodyAcc-std()-Z  \\\ncount         7352.000000         7352.000000         7352.000000   \nmean            -0.605438           -0.510938           -0.604754   \nstd              0.448734            0.502645            0.418687   \nmin             -1.000000           -0.999873           -1.000000   \n25%             -0.992754           -0.978129           -0.980233   \n50%             -0.946196           -0.851897           -0.859365   \n75%             -0.242813           -0.034231           -0.262415   \nmax              1.000000            0.916238            1.000000   \n\n       7 tBodyAcc-mad()-X  8 tBodyAcc-mad()-Y  9 tBodyAcc-mad()-Z  \\\ncount         7352.000000         7352.000000         7352.000000   \nmean            -0.630512           -0.526907           -0.606150   \nstd              0.424073            0.485942            0.414122   \nmin             -1.000000           -1.000000           -1.000000   \n25%             -0.993591           -0.978162           -0.980251   \n50%             -0.950709           -0.857328           -0.857143   \n75%             -0.292680           -0.066701           -0.265671   \nmax              1.000000            0.967664            1.000000   \n\n       10 tBodyAcc-max()-X  ...  552 fBodyBodyGyroJerkMag-meanFreq()  \\\ncount          7352.000000  ...                          7352.000000   \nmean             -0.468604  ...                             0.125293   \nstd               0.544547  ...                             0.250994   \nmin              -1.000000  ...                            -1.000000   \n25%              -0.936219  ...                            -0.023692   \n50%              -0.881637  ...                             0.134000   \n75%              -0.017129  ...                             0.289096   \nmax               1.000000  ...                             0.946700   \n\n       553 fBodyBodyGyroJerkMag-skewness()  \\\ncount                          7352.000000   \nmean                             -0.307009   \nstd                               0.321011   \nmin                              -0.995357   \n25%                              -0.542602   \n50%                              -0.343685   \n75%                              -0.126979   \nmax                               0.989538   \n\n       554 fBodyBodyGyroJerkMag-kurtosis()  555 angle(tBodyAccMean,gravity)  \\\ncount                          7352.000000                      7352.000000   \nmean                             -0.625294                         0.008684   \nstd                               0.307584                         0.336787   \nmin                              -0.999765                        -0.976580   \n25%                              -0.845573                        -0.121527   \n50%                              -0.711692                         0.009509   \n75%                              -0.503878                         0.150865   \nmax                               0.956845                         1.000000   \n\n       556 angle(tBodyAccJerkMean),gravityMean)  \\\ncount                               7352.000000   \nmean                                   0.002186   \nstd                                    0.448306   \nmin                                   -1.000000   \n25%                                   -0.289549   \n50%                                    0.008943   \n75%                                    0.292861   \nmax                                    1.000000   \n\n       557 angle(tBodyGyroMean,gravityMean)  \\\ncount                           7352.000000   \nmean                               0.008726   \nstd                                0.608303   \nmin                               -1.000000   \n25%                               -0.482273   \n50%                                0.008735   \n75%                                0.506187   \nmax                                0.998702   \n\n       558 angle(tBodyGyroJerkMean,gravityMean)  559 angle(X,gravityMean)  \\\ncount                               7352.000000               7352.000000   \nmean                                  -0.005981                 -0.489547   \nstd                                    0.477975                  0.511807   \nmin                                   -1.000000                 -1.000000   \n25%                                   -0.376341                 -0.812065   \n50%                                   -0.000368                 -0.709417   \n75%                                    0.359368                 -0.509079   \nmax                                    0.996078                  1.000000   \n\n       560 angle(Y,gravityMean)  561 angle(Z,gravityMean)  \ncount               7352.000000               7352.000000  \nmean                   0.058593                 -0.056515  \nstd                    0.297480                  0.279122  \nmin                   -1.000000                 -1.000000  \n25%                   -0.017885                 -0.143414  \n50%                    0.182071                  0.003181  \n75%                    0.248353                  0.107659  \nmax                    0.478157                  1.000000  \n\n[8 rows x 561 columns]",
      "text/html": "<div>\n<style scoped>\n    .dataframe tbody tr th:only-of-type {\n        vertical-align: middle;\n    }\n\n    .dataframe tbody tr th {\n        vertical-align: top;\n    }\n\n    .dataframe thead th {\n        text-align: right;\n    }\n</style>\n<table border=\"1\" class=\"dataframe\">\n  <thead>\n    <tr style=\"text-align: right;\">\n      <th></th>\n      <th>1 tBodyAcc-mean()-X</th>\n      <th>2 tBodyAcc-mean()-Y</th>\n      <th>3 tBodyAcc-mean()-Z</th>\n      <th>4 tBodyAcc-std()-X</th>\n      <th>5 tBodyAcc-std()-Y</th>\n      <th>6 tBodyAcc-std()-Z</th>\n      <th>7 tBodyAcc-mad()-X</th>\n      <th>8 tBodyAcc-mad()-Y</th>\n      <th>9 tBodyAcc-mad()-Z</th>\n      <th>10 tBodyAcc-max()-X</th>\n      <th>...</th>\n      <th>552 fBodyBodyGyroJerkMag-meanFreq()</th>\n      <th>553 fBodyBodyGyroJerkMag-skewness()</th>\n      <th>554 fBodyBodyGyroJerkMag-kurtosis()</th>\n      <th>555 angle(tBodyAccMean,gravity)</th>\n      <th>556 angle(tBodyAccJerkMean),gravityMean)</th>\n      <th>557 angle(tBodyGyroMean,gravityMean)</th>\n      <th>558 angle(tBodyGyroJerkMean,gravityMean)</th>\n      <th>559 angle(X,gravityMean)</th>\n      <th>560 angle(Y,gravityMean)</th>\n      <th>561 angle(Z,gravityMean)</th>\n    </tr>\n  </thead>\n  <tbody>\n    <tr>\n      <th>count</th>\n      <td>7352.000000</td>\n      <td>7352.000000</td>\n      <td>7352.000000</td>\n      <td>7352.000000</td>\n      <td>7352.000000</td>\n      <td>7352.000000</td>\n      <td>7352.000000</td>\n      <td>7352.000000</td>\n      <td>7352.000000</td>\n      <td>7352.000000</td>\n      <td>...</td>\n      <td>7352.000000</td>\n      <td>7352.000000</td>\n      <td>7352.000000</td>\n      <td>7352.000000</td>\n      <td>7352.000000</td>\n      <td>7352.000000</td>\n      <td>7352.000000</td>\n      <td>7352.000000</td>\n      <td>7352.000000</td>\n      <td>7352.000000</td>\n    </tr>\n    <tr>\n      <th>mean</th>\n      <td>0.274488</td>\n      <td>-0.017695</td>\n      <td>-0.109141</td>\n      <td>-0.605438</td>\n      <td>-0.510938</td>\n      <td>-0.604754</td>\n      <td>-0.630512</td>\n      <td>-0.526907</td>\n      <td>-0.606150</td>\n      <td>-0.468604</td>\n      <td>...</td>\n      <td>0.125293</td>\n      <td>-0.307009</td>\n      <td>-0.625294</td>\n      <td>0.008684</td>\n      <td>0.002186</td>\n      <td>0.008726</td>\n      <td>-0.005981</td>\n      <td>-0.489547</td>\n      <td>0.058593</td>\n      <td>-0.056515</td>\n    </tr>\n    <tr>\n      <th>std</th>\n      <td>0.070261</td>\n      <td>0.040811</td>\n      <td>0.056635</td>\n      <td>0.448734</td>\n      <td>0.502645</td>\n      <td>0.418687</td>\n      <td>0.424073</td>\n      <td>0.485942</td>\n      <td>0.414122</td>\n      <td>0.544547</td>\n      <td>...</td>\n      <td>0.250994</td>\n      <td>0.321011</td>\n      <td>0.307584</td>\n      <td>0.336787</td>\n      <td>0.448306</td>\n      <td>0.608303</td>\n      <td>0.477975</td>\n      <td>0.511807</td>\n      <td>0.297480</td>\n      <td>0.279122</td>\n    </tr>\n    <tr>\n      <th>min</th>\n      <td>-1.000000</td>\n      <td>-1.000000</td>\n      <td>-1.000000</td>\n      <td>-1.000000</td>\n      <td>-0.999873</td>\n      <td>-1.000000</td>\n      <td>-1.000000</td>\n      <td>-1.000000</td>\n      <td>-1.000000</td>\n      <td>-1.000000</td>\n      <td>...</td>\n      <td>-1.000000</td>\n      <td>-0.995357</td>\n      <td>-0.999765</td>\n      <td>-0.976580</td>\n      <td>-1.000000</td>\n      <td>-1.000000</td>\n      <td>-1.000000</td>\n      <td>-1.000000</td>\n      <td>-1.000000</td>\n      <td>-1.000000</td>\n    </tr>\n    <tr>\n      <th>25%</th>\n      <td>0.262975</td>\n      <td>-0.024863</td>\n      <td>-0.120993</td>\n      <td>-0.992754</td>\n      <td>-0.978129</td>\n      <td>-0.980233</td>\n      <td>-0.993591</td>\n      <td>-0.978162</td>\n      <td>-0.980251</td>\n      <td>-0.936219</td>\n      <td>...</td>\n      <td>-0.023692</td>\n      <td>-0.542602</td>\n      <td>-0.845573</td>\n      <td>-0.121527</td>\n      <td>-0.289549</td>\n      <td>-0.482273</td>\n      <td>-0.376341</td>\n      <td>-0.812065</td>\n      <td>-0.017885</td>\n      <td>-0.143414</td>\n    </tr>\n    <tr>\n      <th>50%</th>\n      <td>0.277193</td>\n      <td>-0.017219</td>\n      <td>-0.108676</td>\n      <td>-0.946196</td>\n      <td>-0.851897</td>\n      <td>-0.859365</td>\n      <td>-0.950709</td>\n      <td>-0.857328</td>\n      <td>-0.857143</td>\n      <td>-0.881637</td>\n      <td>...</td>\n      <td>0.134000</td>\n      <td>-0.343685</td>\n      <td>-0.711692</td>\n      <td>0.009509</td>\n      <td>0.008943</td>\n      <td>0.008735</td>\n      <td>-0.000368</td>\n      <td>-0.709417</td>\n      <td>0.182071</td>\n      <td>0.003181</td>\n    </tr>\n    <tr>\n      <th>75%</th>\n      <td>0.288461</td>\n      <td>-0.010783</td>\n      <td>-0.097794</td>\n      <td>-0.242813</td>\n      <td>-0.034231</td>\n      <td>-0.262415</td>\n      <td>-0.292680</td>\n      <td>-0.066701</td>\n      <td>-0.265671</td>\n      <td>-0.017129</td>\n      <td>...</td>\n      <td>0.289096</td>\n      <td>-0.126979</td>\n      <td>-0.503878</td>\n      <td>0.150865</td>\n      <td>0.292861</td>\n      <td>0.506187</td>\n      <td>0.359368</td>\n      <td>-0.509079</td>\n      <td>0.248353</td>\n      <td>0.107659</td>\n    </tr>\n    <tr>\n      <th>max</th>\n      <td>1.000000</td>\n      <td>1.000000</td>\n      <td>1.000000</td>\n      <td>1.000000</td>\n      <td>0.916238</td>\n      <td>1.000000</td>\n      <td>1.000000</td>\n      <td>0.967664</td>\n      <td>1.000000</td>\n      <td>1.000000</td>\n      <td>...</td>\n      <td>0.946700</td>\n      <td>0.989538</td>\n      <td>0.956845</td>\n      <td>1.000000</td>\n      <td>1.000000</td>\n      <td>0.998702</td>\n      <td>0.996078</td>\n      <td>1.000000</td>\n      <td>0.478157</td>\n      <td>1.000000</td>\n    </tr>\n  </tbody>\n</table>\n<p>8 rows × 561 columns</p>\n</div>"
     },
     "execution_count": 3,
     "metadata": {},
     "output_type": "execute_result"
    }
   ],
   "source": [
    "x_train.describe()"
   ],
   "metadata": {
    "collapsed": false,
    "pycharm": {
     "name": "#%%\n"
    }
   }
  },
  {
   "cell_type": "code",
   "execution_count": 4,
   "outputs": [
    {
     "data": {
      "text/plain": "array([[<matplotlib.axes._subplots.AxesSubplot object at 0x000001AD7B4D8400>]],\n      dtype=object)"
     },
     "execution_count": 4,
     "metadata": {},
     "output_type": "execute_result"
    },
    {
     "data": {
      "text/plain": "<Figure size 432x288 with 1 Axes>",
      "image/png": "[encoded data removed]"
     },
     "metadata": {
      "needs_background": "light"
     },
     "output_type": "display_data"
    }
   ],
   "source": [
    "y_train.hist()"
   ],
   "metadata": {
    "collapsed": false,
    "pycharm": {
     "name": "#%%\n"
    }
   }
  },
  {
   "cell_type": "code",
   "execution_count": 5,
   "outputs": [
    {
     "data": {
      "text/plain": "       1 tBodyAcc-mean()-X  2 tBodyAcc-mean()-Y  3 tBodyAcc-mean()-Z  \\\ncount          7352.000000          7352.000000          7352.000000   \nmean              0.274488            -0.017695            -0.109141   \nstd               0.070261             0.040811             0.056635   \nmin              -1.000000            -1.000000            -1.000000   \n25%               0.262975            -0.024863            -0.120993   \n50%               0.277193            -0.017219            -0.108676   \n75%               0.288461            -0.010783            -0.097794   \nmax               1.000000             1.000000             1.000000   \n\n       4 tBodyAcc-std()-X  5 tBodyAcc-std()-Y  6 tBodyAcc-std()-Z  \\\ncount         7352.000000         7352.000000         7352.000000   \nmean            -0.605438           -0.510938           -0.604754   \nstd              0.448734            0.502645            0.418687   \nmin             -1.000000           -0.999873           -1.000000   \n25%             -0.992754           -0.978129           -0.980233   \n50%             -0.946196           -0.851897           -0.859365   \n75%             -0.242813           -0.034231           -0.262415   \nmax              1.000000            0.916238            1.000000   \n\n       7 tBodyAcc-mad()-X  8 tBodyAcc-mad()-Y  9 tBodyAcc-mad()-Z  \\\ncount         7352.000000         7352.000000         7352.000000   \nmean            -0.630512           -0.526907           -0.606150   \nstd              0.424073            0.485942            0.414122   \nmin             -1.000000           -1.000000           -1.000000   \n25%             -0.993591           -0.978162           -0.980251   \n50%             -0.950709           -0.857328           -0.857143   \n75%             -0.292680           -0.066701           -0.265671   \nmax              1.000000            0.967664            1.000000   \n\n       10 tBodyAcc-max()-X  ...  552 fBodyBodyGyroJerkMag-meanFreq()  \\\ncount          7352.000000  ...                          7352.000000   \nmean             -0.468604  ...                             0.125293   \nstd               0.544547  ...                             0.250994   \nmin              -1.000000  ...                            -1.000000   \n25%              -0.936219  ...                            -0.023692   \n50%              -0.881637  ...                             0.134000   \n75%              -0.017129  ...                             0.289096   \nmax               1.000000  ...                             0.946700   \n\n       553 fBodyBodyGyroJerkMag-skewness()  \\\ncount                          7352.000000   \nmean                             -0.307009   \nstd                               0.321011   \nmin                              -0.995357   \n25%                              -0.542602   \n50%                              -0.343685   \n75%                              -0.126979   \nmax                               0.989538   \n\n       554 fBodyBodyGyroJerkMag-kurtosis()  555 angle(tBodyAccMean,gravity)  \\\ncount                          7352.000000                      7352.000000   \nmean                             -0.625294                         0.008684   \nstd                               0.307584                         0.336787   \nmin                              -0.999765                        -0.976580   \n25%                              -0.845573                        -0.121527   \n50%                              -0.711692                         0.009509   \n75%                              -0.503878                         0.150865   \nmax                               0.956845                         1.000000   \n\n       556 angle(tBodyAccJerkMean),gravityMean)  \\\ncount                               7352.000000   \nmean                                   0.002186   \nstd                                    0.448306   \nmin                                   -1.000000   \n25%                                   -0.289549   \n50%                                    0.008943   \n75%                                    0.292861   \nmax                                    1.000000   \n\n       557 angle(tBodyGyroMean,gravityMean)  \\\ncount                           7352.000000   \nmean                               0.008726   \nstd                                0.608303   \nmin                               -1.000000   \n25%                               -0.482273   \n50%                                0.008735   \n75%                                0.506187   \nmax                                0.998702   \n\n       558 angle(tBodyGyroJerkMean,gravityMean)  559 angle(X,gravityMean)  \\\ncount                               7352.000000               7352.000000   \nmean                                  -0.005981                 -0.489547   \nstd                                    0.477975                  0.511807   \nmin                                   -1.000000                 -1.000000   \n25%                                   -0.376341                 -0.812065   \n50%                                   -0.000368                 -0.709417   \n75%                                    0.359368                 -0.509079   \nmax                                    0.996078                  1.000000   \n\n       560 angle(Y,gravityMean)  561 angle(Z,gravityMean)  \ncount               7352.000000               7352.000000  \nmean                   0.058593                 -0.056515  \nstd                    0.297480                  0.279122  \nmin                   -1.000000                 -1.000000  \n25%                   -0.017885                 -0.143414  \n50%                    0.182071                  0.003181  \n75%                    0.248353                  0.107659  \nmax                    0.478157                  1.000000  \n\n[8 rows x 561 columns]",
      "text/html": "<div>\n<style scoped>\n    .dataframe tbody tr th:only-of-type {\n        vertical-align: middle;\n    }\n\n    .dataframe tbody tr th {\n        vertical-align: top;\n    }\n\n    .dataframe thead th {\n        text-align: right;\n    }\n</style>\n<table border=\"1\" class=\"dataframe\">\n  <thead>\n    <tr style=\"text-align: right;\">\n      <th></th>\n      <th>1 tBodyAcc-mean()-X</th>\n      <th>2 tBodyAcc-mean()-Y</th>\n      <th>3 tBodyAcc-mean()-Z</th>\n      <th>4 tBodyAcc-std()-X</th>\n      <th>5 tBodyAcc-std()-Y</th>\n      <th>6 tBodyAcc-std()-Z</th>\n      <th>7 tBodyAcc-mad()-X</th>\n      <th>8 tBodyAcc-mad()-Y</th>\n      <th>9 tBodyAcc-mad()-Z</th>\n      <th>10 tBodyAcc-max()-X</th>\n      <th>...</th>\n      <th>552 fBodyBodyGyroJerkMag-meanFreq()</th>\n      <th>553 fBodyBodyGyroJerkMag-skewness()</th>\n      <th>554 fBodyBodyGyroJerkMag-kurtosis()</th>\n      <th>555 angle(tBodyAccMean,gravity)</th>\n      <th>556 angle(tBodyAccJerkMean),gravityMean)</th>\n      <th>557 angle(tBodyGyroMean,gravityMean)</th>\n      <th>558 angle(tBodyGyroJerkMean,gravityMean)</th>\n      <th>559 angle(X,gravityMean)</th>\n      <th>560 angle(Y,gravityMean)</th>\n      <th>561 angle(Z,gravityMean)</th>\n    </tr>\n  </thead>\n  <tbody>\n    <tr>\n      <th>count</th>\n      <td>7352.000000</td>\n      <td>7352.000000</td>\n      <td>7352.000000</td>\n      <td>7352.000000</td>\n      <td>7352.000000</td>\n      <td>7352.000000</td>\n      <td>7352.000000</td>\n      <td>7352.000000</td>\n      <td>7352.000000</td>\n      <td>7352.000000</td>\n      <td>...</td>\n      <td>7352.000000</td>\n      <td>7352.000000</td>\n      <td>7352.000000</td>\n      <td>7352.000000</td>\n      <td>7352.000000</td>\n      <td>7352.000000</td>\n      <td>7352.000000</td>\n      <td>7352.000000</td>\n      <td>7352.000000</td>\n      <td>7352.000000</td>\n    </tr>\n    <tr>\n      <th>mean</th>\n      <td>0.274488</td>\n      <td>-0.017695</td>\n      <td>-0.109141</td>\n      <td>-0.605438</td>\n      <td>-0.510938</td>\n      <td>-0.604754</td>\n      <td>-0.630512</td>\n      <td>-0.526907</td>\n      <td>-0.606150</td>\n      <td>-0.468604</td>\n      <td>...</td>\n      <td>0.125293</td>\n      <td>-0.307009</td>\n      <td>-0.625294</td>\n      <td>0.008684</td>\n      <td>0.002186</td>\n      <td>0.008726</td>\n      <td>-0.005981</td>\n      <td>-0.489547</td>\n      <td>0.058593</td>\n      <td>-0.056515</td>\n    </tr>\n    <tr>\n      <th>std</th>\n      <td>0.070261</td>\n      <td>0.040811</td>\n      <td>0.056635</td>\n      <td>0.448734</td>\n      <td>0.502645</td>\n      <td>0.418687</td>\n      <td>0.424073</td>\n      <td>0.485942</td>\n      <td>0.414122</td>\n      <td>0.544547</td>\n      <td>...</td>\n      <td>0.250994</td>\n      <td>0.321011</td>\n      <td>0.307584</td>\n      <td>0.336787</td>\n      <td>0.448306</td>\n      <td>0.608303</td>\n      <td>0.477975</td>\n      <td>0.511807</td>\n      <td>0.297480</td>\n      <td>0.279122</td>\n    </tr>\n    <tr>\n      <th>min</th>\n      <td>-1.000000</td>\n      <td>-1.000000</td>\n      <td>-1.000000</td>\n      <td>-1.000000</td>\n      <td>-0.999873</td>\n      <td>-1.000000</td>\n      <td>-1.000000</td>\n      <td>-1.000000</td>\n      <td>-1.000000</td>\n      <td>-1.000000</td>\n      <td>...</td>\n      <td>-1.000000</td>\n      <td>-0.995357</td>\n      <td>-0.999765</td>\n      <td>-0.976580</td>\n      <td>-1.000000</td>\n      <td>-1.000000</td>\n      <td>-1.000000</td>\n      <td>-1.000000</td>\n      <td>-1.000000</td>\n      <td>-1.000000</td>\n    </tr>\n    <tr>\n      <th>25%</th>\n      <td>0.262975</td>\n      <td>-0.024863</td>\n      <td>-0.120993</td>\n      <td>-0.992754</td>\n      <td>-0.978129</td>\n      <td>-0.980233</td>\n      <td>-0.993591</td>\n      <td>-0.978162</td>\n      <td>-0.980251</td>\n      <td>-0.936219</td>\n      <td>...</td>\n      <td>-0.023692</td>\n      <td>-0.542602</td>\n      <td>-0.845573</td>\n      <td>-0.121527</td>\n      <td>-0.289549</td>\n      <td>-0.482273</td>\n      <td>-0.376341</td>\n      <td>-0.812065</td>\n      <td>-0.017885</td>\n      <td>-0.143414</td>\n    </tr>\n    <tr>\n      <th>50%</th>\n      <td>0.277193</td>\n      <td>-0.017219</td>\n      <td>-0.108676</td>\n      <td>-0.946196</td>\n      <td>-0.851897</td>\n      <td>-0.859365</td>\n      <td>-0.950709</td>\n      <td>-0.857328</td>\n      <td>-0.857143</td>\n      <td>-0.881637</td>\n      <td>...</td>\n      <td>0.134000</td>\n      <td>-0.343685</td>\n      <td>-0.711692</td>\n      <td>0.009509</td>\n      <td>0.008943</td>\n      <td>0.008735</td>\n      <td>-0.000368</td>\n      <td>-0.709417</td>\n      <td>0.182071</td>\n      <td>0.003181</td>\n    </tr>\n    <tr>\n      <th>75%</th>\n      <td>0.288461</td>\n      <td>-0.010783</td>\n      <td>-0.097794</td>\n      <td>-0.242813</td>\n      <td>-0.034231</td>\n      <td>-0.262415</td>\n      <td>-0.292680</td>\n      <td>-0.066701</td>\n      <td>-0.265671</td>\n      <td>-0.017129</td>\n      <td>...</td>\n      <td>0.289096</td>\n      <td>-0.126979</td>\n      <td>-0.503878</td>\n      <td>0.150865</td>\n      <td>0.292861</td>\n      <td>0.506187</td>\n      <td>0.359368</td>\n      <td>-0.509079</td>\n      <td>0.248353</td>\n      <td>0.107659</td>\n    </tr>\n    <tr>\n      <th>max</th>\n      <td>1.000000</td>\n      <td>1.000000</td>\n      <td>1.000000</td>\n      <td>1.000000</td>\n      <td>0.916238</td>\n      <td>1.000000</td>\n      <td>1.000000</td>\n      <td>0.967664</td>\n      <td>1.000000</td>\n      <td>1.000000</td>\n      <td>...</td>\n      <td>0.946700</td>\n      <td>0.989538</td>\n      <td>0.956845</td>\n      <td>1.000000</td>\n      <td>1.000000</td>\n      <td>0.998702</td>\n      <td>0.996078</td>\n      <td>1.000000</td>\n      <td>0.478157</td>\n      <td>1.000000</td>\n    </tr>\n  </tbody>\n</table>\n<p>8 rows × 561 columns</p>\n</div>"
     },
     "execution_count": 5,
     "metadata": {},
     "output_type": "execute_result"
    }
   ],
   "source": [
    "x_train.describe()"
   ],
   "metadata": {
    "collapsed": false,
    "pycharm": {
     "name": "#%%\n"
    }
   }
  },
  {
   "cell_type": "code",
   "execution_count": 6,
   "outputs": [
    {
     "data": {
      "text/plain": "array([[<matplotlib.axes._subplots.AxesSubplot object at 0x000001AD6F88A278>]],\n      dtype=object)"
     },
     "execution_count": 6,
     "metadata": {},
     "output_type": "execute_result"
    },
    {
     "data": {
      "text/plain": "<Figure size 432x288 with 1 Axes>",
      "image/png": "[encoded data removed]"
     },
     "metadata": {
      "needs_background": "light"
     },
     "output_type": "display_data"
    }
   ],
   "source": [
    "y_test.hist()"
   ],
   "metadata": {
    "collapsed": false,
    "pycharm": {
     "name": "#%%\n"
    }
   }
  },
  {
   "cell_type": "raw",
   "source": [
    "We can see that target values have same trend of representation."
   ],
   "metadata": {
    "collapsed": false,
    "pycharm": {
     "name": "#%% raw\n"
    }
   }
  },
  {
   "cell_type": "code",
   "execution_count": 7,
   "outputs": [
    {
     "name": "stdout",
     "output_type": "stream",
     "text": [
      "We have 0 NaN/Null values in x train\n",
      "We have 0 NaN/Null values in y train\n",
      "We have 0 NaN/Null values in x test\n",
      "We have 0 NaN/Null values in y test\n"
     ]
    }
   ],
   "source": [
    "print('We have {} NaN/Null values in x train'.format(x_train.isnull().values.sum()))\n",
    "print('We have {} NaN/Null values in y train'.format(y_train.isnull().values.sum()))\n",
    "print('We have {} NaN/Null values in x test'.format(x_test.isnull().values.sum()))\n",
    "print('We have {} NaN/Null values in y test'.format(y_test.isnull().values.sum()))"
   ],
   "metadata": {
    "collapsed": false,
    "pycharm": {
     "name": "#%%\n"
    }
   }
  },
  {
   "cell_type": "code",
   "execution_count": 8,
   "outputs": [
    {
     "name": "stdout",
     "output_type": "stream",
     "text": [
      "No of duplicates in x train: 0\n",
      "No of duplicates in y test : 0\n"
     ]
    }
   ],
   "source": [
    "print('No of duplicates in x train: {}'.format(sum(x_train.duplicated())))\n",
    "print('No of duplicates in y test : {}'.format(sum(x_test.duplicated())))"
   ],
   "metadata": {
    "collapsed": false,
    "pycharm": {
     "name": "#%%\n"
    }
   }
  },
  {
   "cell_type": "markdown",
   "source": [
    "We can see that the dataset is without duplicates and Nan values.\n",
    "After analysis, we see that there is no outliers this is probably because this data set was made as research dataset.\n",
    "There are few, but we want to keep them so we have some real-life noise, so our model can be more robust.\n",
    "(later proven at clustering)\n",
    "# Correlation Analysis"
   ],
   "metadata": {
    "collapsed": false,
    "pycharm": {
     "name": "#%% md\n"
    }
   }
  },
  {
   "cell_type": "code",
   "execution_count": 9,
   "outputs": [
    {
     "data": {
      "text/plain": "                               Feature_1                         Feature_2  \\\n157955           282 fBodyAcc-energy()-X   315 fBodyAcc-bandsEnergy()-1,24   \n176435   315 fBodyAcc-bandsEnergy()-1,24           282 fBodyAcc-energy()-X   \n265231  473 fBodyGyro-bandsEnergy()-1,24          440 fBodyGyro-energy()-X   \n246751          440 fBodyGyro-energy()-X  473 fBodyGyro-bandsEnergy()-1,24   \n158530           283 fBodyAcc-energy()-Y   329 fBodyAcc-bandsEnergy()-1,24   \n...                                  ...                               ...   \n42865       77 tGravityAcc-arCoeff()-Z,4         230 tBodyAccJerkMag-max()   \n64676     116 tBodyAccJerk-arCoeff()-Z,3        162 tBodyGyroJerk-mean()-Y   \n90436         162 tBodyGyroJerk-mean()-Y    116 tBodyAccJerk-arCoeff()-Z,3   \n255730        456 fBodyGyro-kurtosis()-X  476 fBodyGyro-bandsEnergy()-9,16   \n266930  476 fBodyGyro-bandsEnergy()-9,16        456 fBodyGyro-kurtosis()-X   \n\n        Correlations  abs_correlation  \n157955      0.999878         0.999878  \n176435      0.999878         0.999878  \n265231      0.999767         0.999767  \n246751      0.999767         0.999767  \n158530      0.999661         0.999661  \n...              ...              ...  \n42865      -0.000005         0.000005  \n64676      -0.000004         0.000004  \n90436      -0.000004         0.000004  \n255730     -0.000003         0.000003  \n266930     -0.000003         0.000003  \n\n[314106 rows x 4 columns]",
      "text/html": "<div>\n<style scoped>\n    .dataframe tbody tr th:only-of-type {\n        vertical-align: middle;\n    }\n\n    .dataframe tbody tr th {\n        vertical-align: top;\n    }\n\n    .dataframe thead th {\n        text-align: right;\n    }\n</style>\n<table border=\"1\" class=\"dataframe\">\n  <thead>\n    <tr style=\"text-align: right;\">\n      <th></th>\n      <th>Feature_1</th>\n      <th>Feature_2</th>\n      <th>Correlations</th>\n      <th>abs_correlation</th>\n    </tr>\n  </thead>\n  <tbody>\n    <tr>\n      <th>157955</th>\n      <td>282 fBodyAcc-energy()-X</td>\n      <td>315 fBodyAcc-bandsEnergy()-1,24</td>\n      <td>0.999878</td>\n      <td>0.999878</td>\n    </tr>\n    <tr>\n      <th>176435</th>\n      <td>315 fBodyAcc-bandsEnergy()-1,24</td>\n      <td>282 fBodyAcc-energy()-X</td>\n      <td>0.999878</td>\n      <td>0.999878</td>\n    </tr>\n    <tr>\n      <th>265231</th>\n      <td>473 fBodyGyro-bandsEnergy()-1,24</td>\n      <td>440 fBodyGyro-energy()-X</td>\n      <td>0.999767</td>\n      <td>0.999767</td>\n    </tr>\n    <tr>\n      <th>246751</th>\n      <td>440 fBodyGyro-energy()-X</td>\n      <td>473 fBodyGyro-bandsEnergy()-1,24</td>\n      <td>0.999767</td>\n      <td>0.999767</td>\n    </tr>\n    <tr>\n      <th>158530</th>\n      <td>283 fBodyAcc-energy()-Y</td>\n      <td>329 fBodyAcc-bandsEnergy()-1,24</td>\n      <td>0.999661</td>\n      <td>0.999661</td>\n    </tr>\n    <tr>\n      <th>...</th>\n      <td>...</td>\n      <td>...</td>\n      <td>...</td>\n      <td>...</td>\n    </tr>\n    <tr>\n      <th>42865</th>\n      <td>77 tGravityAcc-arCoeff()-Z,4</td>\n      <td>230 tBodyAccJerkMag-max()</td>\n      <td>-0.000005</td>\n      <td>0.000005</td>\n    </tr>\n    <tr>\n      <th>64676</th>\n      <td>116 tBodyAccJerk-arCoeff()-Z,3</td>\n      <td>162 tBodyGyroJerk-mean()-Y</td>\n      <td>-0.000004</td>\n      <td>0.000004</td>\n    </tr>\n    <tr>\n      <th>90436</th>\n      <td>162 tBodyGyroJerk-mean()-Y</td>\n      <td>116 tBodyAccJerk-arCoeff()-Z,3</td>\n      <td>-0.000004</td>\n      <td>0.000004</td>\n    </tr>\n    <tr>\n      <th>255730</th>\n      <td>456 fBodyGyro-kurtosis()-X</td>\n      <td>476 fBodyGyro-bandsEnergy()-9,16</td>\n      <td>-0.000003</td>\n      <td>0.000003</td>\n    </tr>\n    <tr>\n      <th>266930</th>\n      <td>476 fBodyGyro-bandsEnergy()-9,16</td>\n      <td>456 fBodyGyro-kurtosis()-X</td>\n      <td>-0.000003</td>\n      <td>0.000003</td>\n    </tr>\n  </tbody>\n</table>\n<p>314106 rows × 4 columns</p>\n</div>"
     },
     "execution_count": 9,
     "metadata": {},
     "output_type": "execute_result"
    }
   ],
   "source": [
    "# We can now analyse correlations between variables\n",
    "# There is over 651 attributes so heat map will not be usefull\n",
    "#Calculate the correlation values\n",
    "correlated_values = x_train.corr()\n",
    "#stack the data and convert to a dataframe\n",
    "\n",
    "correlated_values = (correlated_values.stack().to_frame().reset_index()\n",
    "                     .rename(columns={'level_0': 'Feature_1', 'level_1': 'Feature_2', 0:'Correlations'}))\n",
    "correlated_values['abs_correlation'] = correlated_values.Correlations.abs()\n",
    "# We can see top correlations(excluding 1.000000 values)\n",
    "correlated_values = correlated_values[correlated_values['abs_correlation'] != 1.0]\n",
    "correlated_values.sort_values(by=['abs_correlation'], ascending=False)[6:]"
   ],
   "metadata": {
    "collapsed": false,
    "pycharm": {
     "name": "#%%\n"
    }
   }
  },
  {
   "cell_type": "markdown",
   "source": [
    "We can\n",
    "because there are many attributes it could be good to do dimension reduction to get more info about correlations\n",
    "Maybe PCA can give us more answers.\n",
    "# Sacling and encoding\n",
    "Now lets scale data so our model becomes more robust"
   ],
   "metadata": {
    "collapsed": false,
    "pycharm": {
     "name": "#%% md\n"
    }
   }
  },
  {
   "cell_type": "markdown",
   "source": [],
   "metadata": {
    "collapsed": false
   }
  },
  {
   "cell_type": "code",
   "execution_count": 24,
   "outputs": [
    {
     "name": "stderr",
     "output_type": "stream",
     "text": [
      "C:\\Users\\Admin\\Anaconda3\\lib\\site-packages\\sklearn\\preprocessing\\_label.py:251: DataConversionWarning: A column-vector y was passed when a 1d array was expected. Please change the shape of y to (n_samples, ), for example using ravel().\n",
      "  y = column_or_1d(y, warn=True)\n"
     ]
    }
   ],
   "source": [
    "from sklearn.preprocessing import LabelEncoder, StandardScaler\n",
    "# encode target data\n",
    "encoder = LabelEncoder()\n",
    "y_train_encoded = encoder.fit_transform(y_train)\n",
    "y_test_encoded = encoder.fit_transform(y_test)\n",
    "# scale x datasets seperatly so information does not \"leak\" into our test\n",
    "scaler_train = StandardScaler()\n",
    "scale_test = StandardScaler()\n",
    "x_train_scaled = scaler_train.fit_transform(x_train)\n",
    "x_test_scaled = scale_test.fit_transform(x_test)"
   ],
   "metadata": {
    "collapsed": false,
    "pycharm": {
     "name": "#%%\n"
    }
   }
  },
  {
   "cell_type": "markdown",
   "source": [
    "Labels are:\n",
    "0 WALKING\n",
    "2 WALKING_UPSTAIRS\n",
    "3 WALKING_DOWNSTAIRS\n",
    "4 SITTING\n",
    "5 STANDING\n",
    "6 LAYING\n",
    "\n",
    "# PCA"
   ],
   "metadata": {
    "collapsed": false,
    "pycharm": {
     "name": "#%% md\n"
    }
   }
  },
  {
   "cell_type": "code",
   "execution_count": 11,
   "outputs": [
    {
     "data": {
      "text/plain": "array([0.5077625 , 0.57358333, 0.60165048, 0.62656852, 0.64553007,\n       0.66268753])"
     },
     "execution_count": 11,
     "metadata": {},
     "output_type": "execute_result"
    }
   ],
   "source": [
    "from sklearn.decomposition import PCA\n",
    "\n",
    "pca_out = PCA(n_components=6).fit(x_train_scaled)\n",
    "# get the component variance\n",
    "# Proportion of Variance (from PC1 to PC6)\n",
    "pca_out.explained_variance_ratio_\n",
    "\n",
    "# Cumulative proportion of variance (from PC1 to PC6)\n",
    "np.cumsum(pca_out.explained_variance_ratio_)"
   ],
   "metadata": {
    "collapsed": false,
    "pycharm": {
     "name": "#%%\n"
    }
   }
  },
  {
   "cell_type": "code",
   "execution_count": 12,
   "outputs": [
    {
     "data": {
      "text/plain": "                                               PC1       PC2       PC3  \\\nvariable                                                                 \n1 tBodyAcc-mean()-X                       0.000032  0.015645 -0.032799   \n2 tBodyAcc-mean()-Y                      -0.002479 -0.000076  0.002777   \n3 tBodyAcc-mean()-Z                      -0.001525 -0.004032  0.010635   \n4 tBodyAcc-std()-X                        0.056239 -0.010874 -0.025173   \n5 tBodyAcc-std()-Y                        0.056822 -0.025675 -0.022153   \n...                                            ...       ...       ...   \n557 angle(tBodyGyroMean,gravityMean)      0.001001  0.012154 -0.003760   \n558 angle(tBodyGyroJerkMean,gravityMean) -0.001577 -0.008733  0.004450   \n559 angle(X,gravityMean)                 -0.023129  0.017361  0.109685   \n560 angle(Y,gravityMean)                  0.029754 -0.035049 -0.081925   \n561 angle(Z,gravityMean)                  0.026641 -0.017141 -0.068127   \n\n                                               PC4       PC5       PC6  \nvariable                                                                \n1 tBodyAcc-mean()-X                       0.012229  0.004236  0.003885  \n2 tBodyAcc-mean()-Y                       0.001277  0.012747  0.014900  \n3 tBodyAcc-mean()-Z                      -0.008131  0.004611  0.012735  \n4 tBodyAcc-std()-X                       -0.049521  0.007031 -0.025143  \n5 tBodyAcc-std()-Y                       -0.014986 -0.014869 -0.021268  \n...                                            ...       ...       ...  \n557 angle(tBodyGyroMean,gravityMean)     -0.012967  0.018116  0.031272  \n558 angle(tBodyGyroJerkMean,gravityMean)  0.004386 -0.010669 -0.011600  \n559 angle(X,gravityMean)                 -0.115472 -0.168285  0.014782  \n560 angle(Y,gravityMean)                  0.100420  0.132598 -0.034775  \n561 angle(Z,gravityMean)                  0.138021  0.089517 -0.055720  \n\n[561 rows x 6 columns]",
      "text/html": "<div>\n<style scoped>\n    .dataframe tbody tr th:only-of-type {\n        vertical-align: middle;\n    }\n\n    .dataframe tbody tr th {\n        vertical-align: top;\n    }\n\n    .dataframe thead th {\n        text-align: right;\n    }\n</style>\n<table border=\"1\" class=\"dataframe\">\n  <thead>\n    <tr style=\"text-align: right;\">\n      <th></th>\n      <th>PC1</th>\n      <th>PC2</th>\n      <th>PC3</th>\n      <th>PC4</th>\n      <th>PC5</th>\n      <th>PC6</th>\n    </tr>\n    <tr>\n      <th>variable</th>\n      <th></th>\n      <th></th>\n      <th></th>\n      <th></th>\n      <th></th>\n      <th></th>\n    </tr>\n  </thead>\n  <tbody>\n    <tr>\n      <th>1 tBodyAcc-mean()-X</th>\n      <td>0.000032</td>\n      <td>0.015645</td>\n      <td>-0.032799</td>\n      <td>0.012229</td>\n      <td>0.004236</td>\n      <td>0.003885</td>\n    </tr>\n    <tr>\n      <th>2 tBodyAcc-mean()-Y</th>\n      <td>-0.002479</td>\n      <td>-0.000076</td>\n      <td>0.002777</td>\n      <td>0.001277</td>\n      <td>0.012747</td>\n      <td>0.014900</td>\n    </tr>\n    <tr>\n      <th>3 tBodyAcc-mean()-Z</th>\n      <td>-0.001525</td>\n      <td>-0.004032</td>\n      <td>0.010635</td>\n      <td>-0.008131</td>\n      <td>0.004611</td>\n      <td>0.012735</td>\n    </tr>\n    <tr>\n      <th>4 tBodyAcc-std()-X</th>\n      <td>0.056239</td>\n      <td>-0.010874</td>\n      <td>-0.025173</td>\n      <td>-0.049521</td>\n      <td>0.007031</td>\n      <td>-0.025143</td>\n    </tr>\n    <tr>\n      <th>5 tBodyAcc-std()-Y</th>\n      <td>0.056822</td>\n      <td>-0.025675</td>\n      <td>-0.022153</td>\n      <td>-0.014986</td>\n      <td>-0.014869</td>\n      <td>-0.021268</td>\n    </tr>\n    <tr>\n      <th>...</th>\n      <td>...</td>\n      <td>...</td>\n      <td>...</td>\n      <td>...</td>\n      <td>...</td>\n      <td>...</td>\n    </tr>\n    <tr>\n      <th>557 angle(tBodyGyroMean,gravityMean)</th>\n      <td>0.001001</td>\n      <td>0.012154</td>\n      <td>-0.003760</td>\n      <td>-0.012967</td>\n      <td>0.018116</td>\n      <td>0.031272</td>\n    </tr>\n    <tr>\n      <th>558 angle(tBodyGyroJerkMean,gravityMean)</th>\n      <td>-0.001577</td>\n      <td>-0.008733</td>\n      <td>0.004450</td>\n      <td>0.004386</td>\n      <td>-0.010669</td>\n      <td>-0.011600</td>\n    </tr>\n    <tr>\n      <th>559 angle(X,gravityMean)</th>\n      <td>-0.023129</td>\n      <td>0.017361</td>\n      <td>0.109685</td>\n      <td>-0.115472</td>\n      <td>-0.168285</td>\n      <td>0.014782</td>\n    </tr>\n    <tr>\n      <th>560 angle(Y,gravityMean)</th>\n      <td>0.029754</td>\n      <td>-0.035049</td>\n      <td>-0.081925</td>\n      <td>0.100420</td>\n      <td>0.132598</td>\n      <td>-0.034775</td>\n    </tr>\n    <tr>\n      <th>561 angle(Z,gravityMean)</th>\n      <td>0.026641</td>\n      <td>-0.017141</td>\n      <td>-0.068127</td>\n      <td>0.138021</td>\n      <td>0.089517</td>\n      <td>-0.055720</td>\n    </tr>\n  </tbody>\n</table>\n<p>561 rows × 6 columns</p>\n</div>"
     },
     "execution_count": 12,
     "metadata": {},
     "output_type": "execute_result"
    }
   ],
   "source": [
    "# component loadings or weights (correlation coefficient between original variables and the component)\n",
    "# component loadings represents the elements of the eigenvector\n",
    "# the squared loadings within the PCs always sums to 1\n",
    "loadings = pca_out.components_\n",
    "num_pc = pca_out.n_features_\n",
    "pc_list = [\"PC\"+str(i) for i in list(range(1, num_pc+1))]\n",
    "loadings_df = pd.DataFrame.from_dict(dict(zip(pc_list, loadings)))\n",
    "loadings_df['variable'] = x_train.columns.values\n",
    "loadings_df = loadings_df.set_index('variable')\n",
    "loadings_df\n",
    "# positive and negative values in component loadings reflects the positive and negative\n",
    "# correlation of the variables with the PCs."
   ],
   "metadata": {
    "collapsed": false,
    "pycharm": {
     "name": "#%%\n"
    }
   }
  },
  {
   "cell_type": "code",
   "execution_count": 13,
   "outputs": [],
   "source": [
    "# get eigenvalues (variance explained by each PC)\n",
    "eigen_val = pca_out.explained_variance_\n",
    "from bioinfokit.visuz import cluster\n",
    "pca_scores = PCA(n_components=6).fit_transform(x_train)\n",
    "# For easier interpretation we are going to reduce the names for the loadings vectors names\n",
    "columns_numbers = [*range(0, len(x_train.columns.values))]\n",
    "cluster.biplot(cscore=pca_scores, loadings=loadings, labels=columns_numbers, var1=round(pca_out.explained_variance_ratio_[0]*100, 2),\n",
    "               var2=round(pca_out.explained_variance_ratio_[1]*100, 2), dotsize=1, valphadot=0.1)"
   ],
   "metadata": {
    "collapsed": false,
    "pycharm": {
     "name": "#%%\n"
    }
   }
  },
  {
   "cell_type": "markdown",
   "source": [
    "<img height=\"600\" src=\"biplot_2d.png\" width=\"600\"/>"
   ],
   "metadata": {
    "collapsed": false,
    "pycharm": {
     "name": "#%% md\n"
    }
   }
  },
  {
   "cell_type": "markdown",
   "source": [
    "We can see that biplot is useless for analysis but we can still use loadings and scores.\n",
    "We can see clearly that there are different clusters for Stationary(sitting, laying, standing) and Active(liking..) activities.\n",
    "Lets test that hypothesis\n",
    "# Clustering"
   ],
   "metadata": {
    "collapsed": false,
    "pycharm": {
     "name": "#%% md\n"
    }
   }
  },
  {
   "cell_type": "code",
   "execution_count": 14,
   "outputs": [
    {
     "name": "stdout",
     "output_type": "stream",
     "text": [
      "n_clusters = 2 --------------------\n",
      "Confusion matrix based on train data \n",
      " [[3278    7]\n",
      " [  12 4055]]\n",
      "Acc:  0.9974156692056583\n",
      "Confusion matrix based on test data prediction \n",
      " [[1386    1]\n",
      " [   3 1557]]\n",
      "Acc:  0.998642687478792\n"
     ]
    }
   ],
   "source": [
    "from sklearn.cluster import KMeans\n",
    "from sklearn.metrics import confusion_matrix, accuracy_score\n",
    "# make new Active/Passive target values\n",
    "y_test_AP = []\n",
    "y_train_AP = []\n",
    "for y in y_test.values:\n",
    "    if y[0] < 4:\n",
    "        y_test_AP.append(0)\n",
    "    else: y_test_AP.append(1)\n",
    "for y in y_train.values:\n",
    "    if y[0] < 4:\n",
    "        y_train_AP.append(0)\n",
    "    else: y_train_AP.append(1)\n",
    "print(\"n_clusters = 2 --------------------\")\n",
    "kmeans = KMeans(n_clusters=2, random_state=0).fit(x_train_scaled)\n",
    "\n",
    "kmeans_train_predict = KMeans(n_clusters=2, random_state=0).fit_predict(x_train_scaled)\n",
    "print(\"Confusion matrix based on train data \\n\", confusion_matrix(y_train_AP, kmeans_train_predict))\n",
    "print('Acc: ', accuracy_score(y_train_AP, kmeans_train_predict))\n",
    "\n",
    "kmeans_test_predict = kmeans.predict(x_test_scaled)\n",
    "print(\"Confusion matrix based on test data prediction \\n\", confusion_matrix(y_test_AP, kmeans_test_predict))\n",
    "print('Acc: ', accuracy_score(y_test_AP, kmeans_test_predict))"
   ],
   "metadata": {
    "collapsed": false,
    "pycharm": {
     "name": "#%%\n"
    }
   }
  },
  {
   "cell_type": "markdown",
   "source": [
    "We can see that hypothesis is true.\n",
    "Kmeans with 2 clusters predicts with 99 acc if the subject is moving or if she/he is active\n",
    "This is very good result and it fulfills our business goal of making an model which will tells subject that she/he is in-active for last hour...helping them be more healthy\n",
    "But lets try to make broader classification, so we predict true(walking, standing,....) activity"
   ],
   "metadata": {
    "collapsed": false,
    "pycharm": {
     "name": "#%% md\n"
    }
   }
  },
  {
   "cell_type": "markdown",
   "source": [
    "## class results used for evaluating and storing results into results/results.csv"
   ],
   "metadata": {
    "collapsed": false,
    "pycharm": {
     "name": "#%% md\n"
    }
   }
  },
  {
   "cell_type": "code",
   "execution_count": 13,
   "outputs": [],
   "source": [
    "import csv\n",
    "from sklearn.metrics import accuracy_score, precision_score, recall_score, f1_score, roc_auc_score, roc_curve, log_loss\n",
    "\n",
    "# class results used for evaluating and storing results into results/results.csv\n",
    "class Result:\n",
    "    def __init__(self, model_path='none', model='none', params='none', accuracy=0, precision=0, recall=0, f1=0,\n",
    "                 specificity=0, log_loss=0):\n",
    "        self.model_path = model_path\n",
    "        self.model = model\n",
    "        self.params = params\n",
    "        self.accuracy = accuracy\n",
    "        self.precision = precision\n",
    "        self.recall = recall\n",
    "        self.f1 = f1\n",
    "        self.specificity = specificity\n",
    "        self.log_loss = log_loss\n",
    "\n",
    "    def __str__(self):\n",
    "        return \"Model: {0}, Params: {1}, Accuracy: {2}, Precision: {3}, Recall: {4}, F1: {5}, Specificity: {6},\"\" Log_loss: {7}\".format(self.model, self.params, self.accuracy, self.precision, self.recall, self.f1, self.specificity,self.log_loss)\n",
    "\n",
    "    def to_tuple(self):\n",
    "        return (\n",
    "            self.model_path, self.model, self.params, self.accuracy, self.precision, self.recall, self.specificity, self.f1)\n",
    "\n",
    "    def from_dataframe(self, df):\n",
    "        return self.__init__(df['Model Path'].values[0], df['Model'].values[0], df['Params'], df['Accuracy'].values[0],\n",
    "                             df['Precision'].values[0], df['Recall'].values[0], df['F1'].values[0], df['Specificity'].values[0],\n",
    "                             df['Log Loss'].values[0])\n",
    "\n",
    "    def store_result(self):\n",
    "        with open('results/results.csv', 'a') as out:\n",
    "            csv_out = csv.writer(out)\n",
    "            csv_out.writerow(self.to_tuple())\n",
    "\n",
    "        print('result saved')\n",
    "\n",
    "    def store_evaluation_result(self):\n",
    "        with open('results/results_evaluation.csv', 'a') as out:\n",
    "            csv_out = csv.writer(out)\n",
    "            csv_out.writerow(self.to_tuple())\n",
    "\n",
    "        print('result saved')\n",
    "\n",
    "    def calculate_and_store_metrics(self, y_true, y_pred):\n",
    "        self.accuracy = accuracy_score(y_true=y_true, y_pred=y_pred)\n",
    "        self.precision = precision_score(y_true=y_true, y_pred=y_pred, pos_label=1, zero_division=1, average='micro')\n",
    "        self.recall = recall_score(y_true=y_true, y_pred=y_pred, pos_label=1, average='micro')\n",
    "        self.specificity = recall_score(y_true=y_true, y_pred=y_pred, pos_label=0, average='micro')\n",
    "        self.f1 = f1_score(y_true=y_true, y_pred=y_pred, pos_label=1, average='micro')"
   ],
   "metadata": {
    "collapsed": false,
    "pycharm": {
     "name": "#%%\n"
    }
   }
  },
  {
   "cell_type": "markdown",
   "source": [
    "# Train different classifiers on different configurations\n",
    "*Note noo need to run this cell, results are in result/results.csv and models are in models directory"
   ],
   "metadata": {
    "collapsed": false,
    "pycharm": {
     "name": "#%% md\n"
    }
   }
  },
  {
   "cell_type": "code",
   "execution_count": 19,
   "outputs": [
    {
     "name": "stdout",
     "output_type": "stream",
     "text": [
      "start: Random Forest 1\n"
     ]
    },
    {
     "name": "stderr",
     "output_type": "stream",
     "text": [
      "C:\\Users\\Admin\\Anaconda3\\lib\\site-packages\\ipykernel_launcher.py:35: DataConversionWarning: A column-vector y was passed when a 1d array was expected. Please change the shape of y to (n_samples,), for example using ravel().\n",
      "C:\\Users\\Admin\\Anaconda3\\lib\\site-packages\\sklearn\\metrics\\_classification.py:1321: UserWarning: Note that pos_label (set to 0) is ignored when average != 'binary' (got 'micro'). You may use labels=[pos_label] to specify a single positive class.\n",
      "  % (pos_label, average), UserWarning)\n",
      "C:\\Users\\Admin\\Anaconda3\\lib\\site-packages\\ipykernel_launcher.py:35: DataConversionWarning: A column-vector y was passed when a 1d array was expected. Please change the shape of y to (n_samples,), for example using ravel().\n"
     ]
    },
    {
     "name": "stdout",
     "output_type": "stream",
     "text": [
      "result saved\n",
      "start: Random Forest 2\n"
     ]
    },
    {
     "name": "stderr",
     "output_type": "stream",
     "text": [
      "C:\\Users\\Admin\\Anaconda3\\lib\\site-packages\\sklearn\\metrics\\_classification.py:1321: UserWarning: Note that pos_label (set to 0) is ignored when average != 'binary' (got 'micro'). You may use labels=[pos_label] to specify a single positive class.\n",
      "  % (pos_label, average), UserWarning)\n",
      "C:\\Users\\Admin\\Anaconda3\\lib\\site-packages\\ipykernel_launcher.py:35: DataConversionWarning: A column-vector y was passed when a 1d array was expected. Please change the shape of y to (n_samples,), for example using ravel().\n"
     ]
    },
    {
     "name": "stdout",
     "output_type": "stream",
     "text": [
      "result saved\n",
      "start: Random Forest 3\n"
     ]
    },
    {
     "name": "stderr",
     "output_type": "stream",
     "text": [
      "C:\\Users\\Admin\\Anaconda3\\lib\\site-packages\\sklearn\\metrics\\_classification.py:1321: UserWarning: Note that pos_label (set to 0) is ignored when average != 'binary' (got 'micro'). You may use labels=[pos_label] to specify a single positive class.\n",
      "  % (pos_label, average), UserWarning)\n",
      "C:\\Users\\Admin\\Anaconda3\\lib\\site-packages\\ipykernel_launcher.py:35: DataConversionWarning: A column-vector y was passed when a 1d array was expected. Please change the shape of y to (n_samples,), for example using ravel().\n"
     ]
    },
    {
     "name": "stdout",
     "output_type": "stream",
     "text": [
      "result saved\n",
      "start: Random Forest 4\n"
     ]
    },
    {
     "name": "stderr",
     "output_type": "stream",
     "text": [
      "C:\\Users\\Admin\\Anaconda3\\lib\\site-packages\\sklearn\\metrics\\_classification.py:1321: UserWarning: Note that pos_label (set to 0) is ignored when average != 'binary' (got 'micro'). You may use labels=[pos_label] to specify a single positive class.\n",
      "  % (pos_label, average), UserWarning)\n",
      "C:\\Users\\Admin\\Anaconda3\\lib\\site-packages\\ipykernel_launcher.py:35: DataConversionWarning: A column-vector y was passed when a 1d array was expected. Please change the shape of y to (n_samples,), for example using ravel().\n"
     ]
    },
    {
     "name": "stdout",
     "output_type": "stream",
     "text": [
      "result saved\n",
      "start: Random Forest 5\n"
     ]
    },
    {
     "name": "stderr",
     "output_type": "stream",
     "text": [
      "C:\\Users\\Admin\\Anaconda3\\lib\\site-packages\\sklearn\\metrics\\_classification.py:1321: UserWarning: Note that pos_label (set to 0) is ignored when average != 'binary' (got 'micro'). You may use labels=[pos_label] to specify a single positive class.\n",
      "  % (pos_label, average), UserWarning)\n",
      "C:\\Users\\Admin\\Anaconda3\\lib\\site-packages\\sklearn\\ensemble\\_bagging.py:645: DataConversionWarning: A column-vector y was passed when a 1d array was expected. Please change the shape of y to (n_samples, ), for example using ravel().\n",
      "  y = column_or_1d(y, warn=True)\n"
     ]
    },
    {
     "name": "stdout",
     "output_type": "stream",
     "text": [
      "result saved\n",
      "start: bagging 1\n"
     ]
    },
    {
     "name": "stderr",
     "output_type": "stream",
     "text": [
      "C:\\Users\\Admin\\Anaconda3\\lib\\site-packages\\sklearn\\metrics\\_classification.py:1321: UserWarning: Note that pos_label (set to 0) is ignored when average != 'binary' (got 'micro'). You may use labels=[pos_label] to specify a single positive class.\n",
      "  % (pos_label, average), UserWarning)\n"
     ]
    },
    {
     "name": "stdout",
     "output_type": "stream",
     "text": [
      "result saved\n",
      "start: bagging 2\n"
     ]
    },
    {
     "name": "stderr",
     "output_type": "stream",
     "text": [
      "C:\\Users\\Admin\\Anaconda3\\lib\\site-packages\\sklearn\\ensemble\\_bagging.py:645: DataConversionWarning: A column-vector y was passed when a 1d array was expected. Please change the shape of y to (n_samples, ), for example using ravel().\n",
      "  y = column_or_1d(y, warn=True)\n",
      "C:\\Users\\Admin\\Anaconda3\\lib\\site-packages\\sklearn\\metrics\\_classification.py:1321: UserWarning: Note that pos_label (set to 0) is ignored when average != 'binary' (got 'micro'). You may use labels=[pos_label] to specify a single positive class.\n",
      "  % (pos_label, average), UserWarning)\n",
      "C:\\Users\\Admin\\Anaconda3\\lib\\site-packages\\sklearn\\ensemble\\_bagging.py:645: DataConversionWarning: A column-vector y was passed when a 1d array was expected. Please change the shape of y to (n_samples, ), for example using ravel().\n",
      "  y = column_or_1d(y, warn=True)\n"
     ]
    },
    {
     "name": "stdout",
     "output_type": "stream",
     "text": [
      "result saved\n",
      "start: bagging 3\n"
     ]
    },
    {
     "name": "stderr",
     "output_type": "stream",
     "text": [
      "C:\\Users\\Admin\\Anaconda3\\lib\\site-packages\\sklearn\\metrics\\_classification.py:1321: UserWarning: Note that pos_label (set to 0) is ignored when average != 'binary' (got 'micro'). You may use labels=[pos_label] to specify a single positive class.\n",
      "  % (pos_label, average), UserWarning)\n",
      "C:\\Users\\Admin\\Anaconda3\\lib\\site-packages\\sklearn\\ensemble\\_bagging.py:645: DataConversionWarning: A column-vector y was passed when a 1d array was expected. Please change the shape of y to (n_samples, ), for example using ravel().\n",
      "  y = column_or_1d(y, warn=True)\n"
     ]
    },
    {
     "name": "stdout",
     "output_type": "stream",
     "text": [
      "result saved\n",
      "start: bagging 4\n"
     ]
    },
    {
     "name": "stderr",
     "output_type": "stream",
     "text": [
      "C:\\Users\\Admin\\Anaconda3\\lib\\site-packages\\sklearn\\metrics\\_classification.py:1321: UserWarning: Note that pos_label (set to 0) is ignored when average != 'binary' (got 'micro'). You may use labels=[pos_label] to specify a single positive class.\n",
      "  % (pos_label, average), UserWarning)\n",
      "C:\\Users\\Admin\\Anaconda3\\lib\\site-packages\\sklearn\\ensemble\\_bagging.py:645: DataConversionWarning: A column-vector y was passed when a 1d array was expected. Please change the shape of y to (n_samples, ), for example using ravel().\n",
      "  y = column_or_1d(y, warn=True)\n"
     ]
    },
    {
     "name": "stdout",
     "output_type": "stream",
     "text": [
      "result saved\n",
      "start: bagging 5\n"
     ]
    },
    {
     "name": "stderr",
     "output_type": "stream",
     "text": [
      "C:\\Users\\Admin\\Anaconda3\\lib\\site-packages\\sklearn\\metrics\\_classification.py:1321: UserWarning: Note that pos_label (set to 0) is ignored when average != 'binary' (got 'micro'). You may use labels=[pos_label] to specify a single positive class.\n",
      "  % (pos_label, average), UserWarning)\n",
      "C:\\Users\\Admin\\Anaconda3\\lib\\site-packages\\sklearn\\ensemble\\_gb.py:1454: DataConversionWarning: A column-vector y was passed when a 1d array was expected. Please change the shape of y to (n_samples, ), for example using ravel().\n",
      "  y = column_or_1d(y, warn=True)\n"
     ]
    },
    {
     "name": "stdout",
     "output_type": "stream",
     "text": [
      "result saved\n",
      "start: GBC 1\n"
     ]
    },
    {
     "name": "stderr",
     "output_type": "stream",
     "text": [
      "C:\\Users\\Admin\\Anaconda3\\lib\\site-packages\\sklearn\\metrics\\_classification.py:1321: UserWarning: Note that pos_label (set to 0) is ignored when average != 'binary' (got 'micro'). You may use labels=[pos_label] to specify a single positive class.\n",
      "  % (pos_label, average), UserWarning)\n",
      "C:\\Users\\Admin\\Anaconda3\\lib\\site-packages\\sklearn\\ensemble\\_gb.py:1454: DataConversionWarning: A column-vector y was passed when a 1d array was expected. Please change the shape of y to (n_samples, ), for example using ravel().\n",
      "  y = column_or_1d(y, warn=True)\n"
     ]
    },
    {
     "name": "stdout",
     "output_type": "stream",
     "text": [
      "result saved\n",
      "start: GBC 2\n",
      "result saved\n"
     ]
    },
    {
     "name": "stderr",
     "output_type": "stream",
     "text": [
      "C:\\Users\\Admin\\Anaconda3\\lib\\site-packages\\sklearn\\metrics\\_classification.py:1321: UserWarning: Note that pos_label (set to 0) is ignored when average != 'binary' (got 'micro'). You may use labels=[pos_label] to specify a single positive class.\n",
      "  % (pos_label, average), UserWarning)\n"
     ]
    }
   ],
   "source": [
    "from sklearn.linear_model import Perceptron\n",
    "from sklearn.model_selection import train_test_split\n",
    "from sklearn.ensemble import RandomForestClassifier, GradientBoostingClassifier, BaggingClassifier\n",
    "import pickle\n",
    "\n",
    "def load_classifiers():\n",
    "    return [\n",
    "        {'model': RandomForestClassifier(n_estimators=10, min_samples_leaf=3), 'name': 'Random Forest 1'},\n",
    "        {'model': RandomForestClassifier(n_estimators=50, min_samples_leaf=1), 'name': 'Random Forest 2'},\n",
    "        {'model': RandomForestClassifier(n_estimators=50, min_samples_leaf=3), 'name': 'Random Forest 3'},\n",
    "        {'model': RandomForestClassifier(n_estimators=300, min_samples_leaf=3), 'name': 'Random Forest 4'},\n",
    "        {'model': RandomForestClassifier(n_estimators=300, min_samples_leaf=60), 'name': 'Random Forest 5'},\n",
    "        {'model': BaggingClassifier(base_estimator=Perceptron(), n_estimators=1000, bootstrap=True), 'name': 'bagging 1'},\n",
    "        {'model': BaggingClassifier(base_estimator=Perceptron(), n_estimators=100, bootstrap=True), 'name': 'bagging 2'},\n",
    "        {'model': BaggingClassifier(base_estimator=Perceptron(), n_estimators=100, bootstrap=True, max_features=5), 'name': 'bagging 3'},\n",
    "        {'model': BaggingClassifier(base_estimator=Perceptron(), n_estimators=1000, bootstrap=True, max_features=5), 'name': 'bagging 4'},\n",
    "        {'model': BaggingClassifier(base_estimator=Perceptron(), n_estimators=1000, bootstrap=False), 'name': 'bagging 5'},\n",
    "        {'model': GradientBoostingClassifier(n_estimators=10, min_samples_leaf=1), 'name': 'GBC 1'},\n",
    "        {'model': GradientBoostingClassifier(n_estimators=100, min_samples_leaf=2), 'name': 'GBC 2'},\n",
    "    ]\n",
    "\n",
    "def split_data(train_data, train_labels, test_size) -> (pd.DataFrame, pd.DataFrame, pd.DataFrame, pd.DataFrame):\n",
    "    X_train, X_test, y_train, y_test = train_test_split(train_data, train_labels, test_size=test_size)\n",
    "    return X_train, X_test, y_train, y_test\n",
    "\n",
    "X_train_model, X_test_model, y_train_model, y_test_model = split_data(x_train_scaled, y_train, test_size=0.2)\n",
    "\n",
    "for classifier in load_classifiers():\n",
    "    model = classifier['model']\n",
    "\n",
    "    result = Result('With Scaling', model, str(model.get_params()))\n",
    "\n",
    "    print('start: {}'.format(classifier['name']))\n",
    "\n",
    "    model.fit(X_train_model, y_train_model)\n",
    "    y_pred = model.predict(X_test_model)\n",
    "\n",
    "    result.calculate_and_store_metrics(y_test_model, y_pred)\n",
    "    result.store_result()\n",
    "    model_name = classifier['name']\n",
    "    path = './models/' + model_name\n",
    "    pickle.dump(model, open(path, 'wb'))"
   ],
   "metadata": {
    "collapsed": false,
    "pycharm": {
     "name": "#%%\n"
    }
   }
  },
  {
   "cell_type": "code",
   "execution_count": 28,
   "outputs": [
    {
     "name": "stdout",
     "output_type": "stream",
     "text": [
      "start: Random Forest 1\n",
      "result saved\n",
      "start: Random Forest 2\n",
      "result saved\n",
      "start: Random Forest 3\n",
      "result saved\n",
      "start: Random Forest 4\n"
     ]
    },
    {
     "name": "stderr",
     "output_type": "stream",
     "text": [
      "C:\\Users\\Admin\\Anaconda3\\lib\\site-packages\\sklearn\\metrics\\_classification.py:1321: UserWarning: Note that pos_label (set to 0) is ignored when average != 'binary' (got 'micro'). You may use labels=[pos_label] to specify a single positive class.\n",
      "  % (pos_label, average), UserWarning)\n",
      "C:\\Users\\Admin\\Anaconda3\\lib\\site-packages\\sklearn\\metrics\\_classification.py:1321: UserWarning: Note that pos_label (set to 0) is ignored when average != 'binary' (got 'micro'). You may use labels=[pos_label] to specify a single positive class.\n",
      "  % (pos_label, average), UserWarning)\n",
      "C:\\Users\\Admin\\Anaconda3\\lib\\site-packages\\sklearn\\metrics\\_classification.py:1321: UserWarning: Note that pos_label (set to 0) is ignored when average != 'binary' (got 'micro'). You may use labels=[pos_label] to specify a single positive class.\n",
      "  % (pos_label, average), UserWarning)\n",
      "C:\\Users\\Admin\\Anaconda3\\lib\\site-packages\\sklearn\\metrics\\_classification.py:1321: UserWarning: Note that pos_label (set to 0) is ignored when average != 'binary' (got 'micro'). You may use labels=[pos_label] to specify a single positive class.\n",
      "  % (pos_label, average), UserWarning)\n",
      "C:\\Users\\Admin\\Anaconda3\\lib\\site-packages\\sklearn\\metrics\\_classification.py:1321: UserWarning: Note that pos_label (set to 0) is ignored when average != 'binary' (got 'micro'). You may use labels=[pos_label] to specify a single positive class.\n",
      "  % (pos_label, average), UserWarning)\n"
     ]
    },
    {
     "name": "stdout",
     "output_type": "stream",
     "text": [
      "result saved\n",
      "start: Random Forest 5\n",
      "result saved\n",
      "start: bagging 1\n"
     ]
    },
    {
     "name": "stderr",
     "output_type": "stream",
     "text": [
      "C:\\Users\\Admin\\Anaconda3\\lib\\site-packages\\sklearn\\metrics\\_classification.py:1321: UserWarning: Note that pos_label (set to 0) is ignored when average != 'binary' (got 'micro'). You may use labels=[pos_label] to specify a single positive class.\n",
      "  % (pos_label, average), UserWarning)\n"
     ]
    },
    {
     "name": "stdout",
     "output_type": "stream",
     "text": [
      "result saved\n",
      "start: bagging 2\n"
     ]
    },
    {
     "name": "stderr",
     "output_type": "stream",
     "text": [
      "C:\\Users\\Admin\\Anaconda3\\lib\\site-packages\\sklearn\\metrics\\_classification.py:1321: UserWarning: Note that pos_label (set to 0) is ignored when average != 'binary' (got 'micro'). You may use labels=[pos_label] to specify a single positive class.\n",
      "  % (pos_label, average), UserWarning)\n"
     ]
    },
    {
     "name": "stdout",
     "output_type": "stream",
     "text": [
      "result saved\n",
      "start: bagging 3\n"
     ]
    },
    {
     "name": "stderr",
     "output_type": "stream",
     "text": [
      "C:\\Users\\Admin\\Anaconda3\\lib\\site-packages\\sklearn\\metrics\\_classification.py:1321: UserWarning: Note that pos_label (set to 0) is ignored when average != 'binary' (got 'micro'). You may use labels=[pos_label] to specify a single positive class.\n",
      "  % (pos_label, average), UserWarning)\n"
     ]
    },
    {
     "name": "stdout",
     "output_type": "stream",
     "text": [
      "result saved\n",
      "start: bagging 4\n"
     ]
    },
    {
     "name": "stderr",
     "output_type": "stream",
     "text": [
      "C:\\Users\\Admin\\Anaconda3\\lib\\site-packages\\sklearn\\metrics\\_classification.py:1321: UserWarning: Note that pos_label (set to 0) is ignored when average != 'binary' (got 'micro'). You may use labels=[pos_label] to specify a single positive class.\n",
      "  % (pos_label, average), UserWarning)\n"
     ]
    },
    {
     "name": "stdout",
     "output_type": "stream",
     "text": [
      "result saved\n",
      "start: bagging \n",
      "result saved\n",
      "start: GBC 1\n",
      "result saved\n",
      "start: GBC 2\n",
      "result saved\n"
     ]
    },
    {
     "name": "stderr",
     "output_type": "stream",
     "text": [
      "C:\\Users\\Admin\\Anaconda3\\lib\\site-packages\\sklearn\\metrics\\_classification.py:1321: UserWarning: Note that pos_label (set to 0) is ignored when average != 'binary' (got 'micro'). You may use labels=[pos_label] to specify a single positive class.\n",
      "  % (pos_label, average), UserWarning)\n",
      "C:\\Users\\Admin\\Anaconda3\\lib\\site-packages\\sklearn\\metrics\\_classification.py:1321: UserWarning: Note that pos_label (set to 0) is ignored when average != 'binary' (got 'micro'). You may use labels=[pos_label] to specify a single positive class.\n",
      "  % (pos_label, average), UserWarning)\n",
      "C:\\Users\\Admin\\Anaconda3\\lib\\site-packages\\sklearn\\metrics\\_classification.py:1321: UserWarning: Note that pos_label (set to 0) is ignored when average != 'binary' (got 'micro'). You may use labels=[pos_label] to specify a single positive class.\n",
      "  % (pos_label, average), UserWarning)\n"
     ]
    }
   ],
   "source": [
    "import pickle\n",
    "def load_model():\n",
    "    path = './models/'\n",
    "    return [\n",
    "        {'model': pickle.load(open(path + 'Random Forest 1', 'rb')), 'name': 'Random Forest 1'},\n",
    "        {'model': pickle.load(open(path + 'Random Forest 2', 'rb')), 'name': 'Random Forest 2'},\n",
    "        {'model': pickle.load(open(path + 'Random Forest 3', 'rb')), 'name': 'Random Forest 3'},\n",
    "        {'model': pickle.load(open(path + 'Random Forest 4', 'rb')), 'name': 'Random Forest 4'},\n",
    "        {'model': pickle.load(open(path + 'Random Forest 5', 'rb')), 'name': 'Random Forest 5'},\n",
    "        {'model': pickle.load(open(path + 'bagging 1', 'rb')), 'name': 'bagging 1'},\n",
    "        {'model':  pickle.load(open(path + 'bagging 2', 'rb')),'name': 'bagging 2'},\n",
    "        {'model':  pickle.load(open(path + 'bagging 3', 'rb')),'name': 'bagging 3'},\n",
    "        {'model':  pickle.load(open(path + 'bagging 4', 'rb')), 'name': 'bagging 4'},\n",
    "        {'model':    pickle.load(open(path + 'bagging 5', 'rb')),'name': 'bagging 5'},\n",
    "        {'model':  pickle.load(open(path + 'GBC 1', 'rb')),'name': 'GBC 1'},\n",
    "        {'model':  pickle.load(open(path + 'GBC 2', 'rb')), 'name': 'GBC 2'}\n",
    "     ]\n",
    "for model in load_model():\n",
    "    result = Result('Evaluation results ', model['model'])\n",
    "\n",
    "    print('start: {}'.format(model['name']))\n",
    "\n",
    "    y_pred = model['model'].predict(x_test_scaled)\n",
    "\n",
    "    result.calculate_and_store_metrics(y_test, y_pred)\n",
    "    result.store_evaluation_result()"
   ],
   "metadata": {
    "collapsed": false,
    "pycharm": {
     "name": "#%%\n"
    }
   }
  },
  {
   "cell_type": "code",
   "execution_count": null,
   "outputs": [],
   "source": [],
   "metadata": {
    "collapsed": false,
    "pycharm": {
     "name": "#%%\n"
    }
   }
  },
  {
   "cell_type": "code",
   "execution_count": null,
   "outputs": [],
   "source": [],
   "metadata": {
    "collapsed": false,
    "pycharm": {
     "name": "#%%\n"
    }
   }
  },
  {
   "cell_type": "code",
   "execution_count": null,
   "outputs": [],
   "source": [],
   "metadata": {
    "collapsed": false,
    "pycharm": {
     "name": "#%%\n"
    }
   }
  }
 ],
 "metadata": {
  "kernelspec": {
   "display_name": "Python 3",
   "language": "python",
   "name": "python3"
  },
  "language_info": {
   "codemirror_mode": {
    "name": "ipython",
    "version": 2
   },
   "file_extension": ".py",
   "mimetype": "text/x-python",
   "name": "python",
   "nbconvert_exporter": "python",
   "pygments_lexer": "ipython2",
   "version": "2.7.6"
  }
 },
 "nbformat": 4,
 "nbformat_minor": 0
}